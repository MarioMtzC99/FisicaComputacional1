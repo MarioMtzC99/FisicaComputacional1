{
  "nbformat": 4,
  "nbformat_minor": 0,
  "metadata": {
    "colab": {
      "name": "Actividad7.ipynb",
      "provenance": [],
      "collapsed_sections": []
    },
    "kernelspec": {
      "name": "python3",
      "display_name": "Python 3"
    }
  },
  "cells": [
    {
      "cell_type": "code",
      "metadata": {
        "id": "k6c66S8pEITC"
      },
      "source": [
        "#Cargamos las bibliotecas para trabajar en Álgebra lineal.\r\n",
        "import numpy as np \r\n",
        "import scipy.linalg as la\r\n",
        "from numpy.linalg import matrix_power as mpow\r\n",
        "import matplotlib.pyplot as plt"
      ],
      "execution_count": null,
      "outputs": []
    },
    {
      "cell_type": "markdown",
      "metadata": {
        "id": "C4yaXQPPHHoW"
      },
      "source": [
        "# **Ejercicio 1.**"
      ]
    },
    {
      "cell_type": "code",
      "metadata": {
        "colab": {
          "base_uri": "https://localhost:8080/"
        },
        "id": "FDx3p6m0Gi-N",
        "outputId": "fd103516-6eef-4dd4-b6fb-d11a3d91c376"
      },
      "source": [
        "#Definimos las matrices que se nos indica.\r\n",
        "A = np.array([[1,3],[-1,7]])\r\n",
        "B = np.array([[5,2],[1,2]])\r\n",
        "I = np.array([[1,0],[0,1]])\r\n",
        "#Vemos si nos salieron como deseamos.\r\n",
        "print(A)\r\n",
        "print(B)\r\n",
        "print(I)"
      ],
      "execution_count": null,
      "outputs": [
        {
          "output_type": "stream",
          "text": [
            "[[ 1  3]\n",
            " [-1  7]]\n",
            "[[5 2]\n",
            " [1 2]]\n",
            "[[1 0]\n",
            " [0 1]]\n"
          ],
          "name": "stdout"
        }
      ]
    },
    {
      "cell_type": "code",
      "metadata": {
        "colab": {
          "base_uri": "https://localhost:8080/"
        },
        "id": "ozlm8P9IHiS_",
        "outputId": "18d4e984-510b-4047-f84c-b3e165e3246f"
      },
      "source": [
        "#Calculamos el resultado de 2*I+3*A+A@B\r\n",
        "2*I + 3*A + A@B"
      ],
      "execution_count": null,
      "outputs": [
        {
          "output_type": "execute_result",
          "data": {
            "text/plain": [
              "array([[13, 17],\n",
              "       [-1, 35]])"
            ]
          },
          "metadata": {
            "tags": []
          },
          "execution_count": 3
        }
      ]
    },
    {
      "cell_type": "markdown",
      "metadata": {
        "id": "KoFgmTKmKGl4"
      },
      "source": [
        "# **Ejercicio 2.**\r\n",
        "Los polinomios característicos y el Teorema de Cayley-Hamilton.\r\n",
        "\r\n",
        "\r\n",
        "\r\n",
        "\r\n"
      ]
    },
    {
      "cell_type": "markdown",
      "metadata": {
        "id": "TyKbGRpyT2bq"
      },
      "source": [
        ""
      ]
    },
    {
      "cell_type": "code",
      "metadata": {
        "colab": {
          "base_uri": "https://localhost:8080/"
        },
        "id": "H5h3bKYZKoJr",
        "outputId": "89b43c18-9e4e-468d-e504-69c83b3727a4"
      },
      "source": [
        "#podemos realizar una matriz aleatoria para esto.\r\n",
        "N = np.random.randint(0,10,[2,2])\r\n",
        "print(N)\r\n",
        "I = np.array([[1,0],[0,1]])"
      ],
      "execution_count": null,
      "outputs": [
        {
          "output_type": "stream",
          "text": [
            "[[3 8]\n",
            " [6 1]]\n"
          ],
          "name": "stdout"
        }
      ]
    },
    {
      "cell_type": "code",
      "metadata": {
        "colab": {
          "base_uri": "https://localhost:8080/"
        },
        "id": "YlqduN48QQGF",
        "outputId": "341c92ce-c3ab-4925-8b8d-5f33304616d4"
      },
      "source": [
        "N@N - (np.trace(N))*N + (la.det(N))*I"
      ],
      "execution_count": null,
      "outputs": [
        {
          "output_type": "execute_result",
          "data": {
            "text/plain": [
              "array([[0., 0.],\n",
              "       [0., 0.]])"
            ]
          },
          "metadata": {
            "tags": []
          },
          "execution_count": 10
        }
      ]
    },
    {
      "cell_type": "markdown",
      "metadata": {
        "id": "x0e2UtjoSLu0"
      },
      "source": [
        "# **EJERCICIO 3.**\r\n",
        "Resuelva el sistema de ecuaciones:\r\n",
        "\r\n",
        "![image.png](data:image/png;base64,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)\r\n",
        "\r\n",
        "de dos formas, utilizando el Método de Eliminación Gaussiana y utilizando la función scipy.linalg.solve"
      ]
    },
    {
      "cell_type": "code",
      "metadata": {
        "id": "STPjI_bDS7BA"
      },
      "source": [
        "#Método de eliminación Gaussiana.\r\n",
        "#Intercambio de posición de renglones.\r\n",
        "def switch_rows(A,i,j):\r\n",
        "  'Intercambiar renglones i y j en la matriz A.'\r\n",
        "  n = A.shape[0]\r\n",
        "  E = np.eye(n)\r\n",
        "  E[i,i] = 0\r\n",
        "  E[j,j] = 0\r\n",
        "  E[i,j] = 1\r\n",
        "  E[j,i] = 1\r\n",
        "  return E @ A\r\n",
        "#Multiplicar un renglón por una constante no nula.\r\n",
        "def scale_row(A,k,i):\r\n",
        "  'Multiplicar el renglón i por k en la matriz A.'\r\n",
        "  n = A.shape[0]\r\n",
        "  E = np.eye(n)\r\n",
        "  E[i,i] = k\r\n",
        "  return E @ A\r\n",
        "#Sumar un múltiplo de un renglón a otro renglón.\r\n",
        "def add_row(A,k,i,j):\r\n",
        "  'Sumar k veces el renglón j al renglón i en la matriz A.'\r\n",
        "  n = A.shape[0]\r\n",
        "  E = np.eye(n)\r\n",
        "  if i == j:\r\n",
        "    E[i,i] = k + 1\r\n",
        "  else:\r\n",
        "      E[i,j] = k\r\n",
        "  return E @ A"
      ],
      "execution_count": null,
      "outputs": []
    },
    {
      "cell_type": "code",
      "metadata": {
        "colab": {
          "base_uri": "https://localhost:8080/"
        },
        "id": "2aM9TdJuzEdk",
        "outputId": "c61cab31-cfec-4e67-84a8-dfc6922428cf"
      },
      "source": [
        "#Definimos la matriz.\r\n",
        "M = np.array([[1,-3,1],[3,-4,1],[0,2,-1]])\r\n",
        "print(M)"
      ],
      "execution_count": null,
      "outputs": [
        {
          "output_type": "stream",
          "text": [
            "[[ 1 -3  1]\n",
            " [ 3 -4  1]\n",
            " [ 0  2 -1]]\n"
          ],
          "name": "stdout"
        }
      ]
    },
    {
      "cell_type": "code",
      "metadata": {
        "colab": {
          "base_uri": "https://localhost:8080/"
        },
        "id": "WK2lm-C7z_1b",
        "outputId": "79e13deb-a5f4-44ec-a468-4f52e66a6afa"
      },
      "source": [
        "#Matriz Aumentada.\r\n",
        "A = np.hstack([M,np.eye(3)])\r\n",
        "print(A)"
      ],
      "execution_count": null,
      "outputs": [
        {
          "output_type": "stream",
          "text": [
            "[[ 1. -3.  1.  1.  0.  0.]\n",
            " [ 3. -4.  1.  0.  1.  0.]\n",
            " [ 0.  2. -1.  0.  0.  1.]]\n"
          ],
          "name": "stdout"
        }
      ]
    },
    {
      "cell_type": "code",
      "metadata": {
        "colab": {
          "base_uri": "https://localhost:8080/"
        },
        "id": "7FAVmgL70ZhI",
        "outputId": "65518c2e-d4fd-42fb-f6f8-3a652189c638"
      },
      "source": [
        "#Comenzamos a utilizar el método Gauss Jordan.\r\n",
        "#1)-3L1 + L2 ==>L2\r\n",
        "A1 = add_row(A,-3,1,0)\r\n",
        "print(A1)\r\n"
      ],
      "execution_count": null,
      "outputs": [
        {
          "output_type": "stream",
          "text": [
            "[[ 1. -3.  1.  1.  0.  0.]\n",
            " [ 0.  5. -2. -3.  1.  0.]\n",
            " [ 0.  2. -1.  0.  0.  1.]]\n"
          ],
          "name": "stdout"
        }
      ]
    },
    {
      "cell_type": "code",
      "metadata": {
        "colab": {
          "base_uri": "https://localhost:8080/"
        },
        "id": "QgJgJ2KtzK1c",
        "outputId": "41806ebb-6f2c-4ceb-dfc5-8a3f36cf99fb"
      },
      "source": [
        "#2)(-2/5)L2+L3 ==> L3\r\n",
        "A2_temp = add_row(A1, -2/5, 2, 1)\r\n",
        "#3)(3/5)L2\r\n",
        "A2 = scale_row(A2_temp, 3/5, 1)\r\n",
        "A2 = add_row(A2,1,0,1)\r\n",
        "print(A2)"
      ],
      "execution_count": null,
      "outputs": [
        {
          "output_type": "stream",
          "text": [
            "[[ 1.   0.  -0.2 -0.8  0.6  0. ]\n",
            " [ 0.   3.  -1.2 -1.8  0.6  0. ]\n",
            " [ 0.   0.  -0.2  1.2 -0.4  1. ]]\n"
          ],
          "name": "stdout"
        }
      ]
    },
    {
      "cell_type": "code",
      "metadata": {
        "colab": {
          "base_uri": "https://localhost:8080/"
        },
        "id": "BYeS6F-F-3bp",
        "outputId": "9a0835e1-6aec-43f8-adf1-11069ae5749a"
      },
      "source": [
        "A3_temp1 = scale_row(A2,-5,2)\r\n",
        "\r\n",
        "A3_temp2 = scale_row(A3_temp1,-1/1.2,1)\r\n",
        "\r\n",
        "A3_temp3 = add_row(A3_temp2, 0.4, 1, 2)\r\n",
        "\r\n",
        "A3_temp3 = add_row(A3_temp2, 0.2, 0, 2)\r\n",
        "\r\n",
        "A3_temp3 = add_row(A3_temp3, -1, 1, 2)\r\n",
        "\r\n",
        "A3 = scale_row(A3_temp3, -1/2.5, 1)\r\n",
        "print(np.round(A3, 2))"
      ],
      "execution_count": null,
      "outputs": [
        {
          "output_type": "stream",
          "text": [
            "[[ 1.  0.  0. -2.  1. -1.]\n",
            " [ 0.  1. -0. -3.  1. -2.]\n",
            " [ 0.  0.  1. -6.  2. -5.]]\n"
          ],
          "name": "stdout"
        }
      ]
    },
    {
      "cell_type": "code",
      "metadata": {
        "colab": {
          "base_uri": "https://localhost:8080/"
        },
        "id": "OP535rmtDhKX",
        "outputId": "f802330d-a9f0-4b6e-e947-f357a617934a"
      },
      "source": [
        "#Inversa\r\n",
        "Minv = A3[:,3:]\r\n",
        "print(Minv)"
      ],
      "execution_count": null,
      "outputs": [
        {
          "output_type": "stream",
          "text": [
            "[[-2.  1. -1.]\n",
            " [-3.  1. -2.]\n",
            " [-6.  2. -5.]]\n"
          ],
          "name": "stdout"
        }
      ]
    },
    {
      "cell_type": "code",
      "metadata": {
        "colab": {
          "base_uri": "https://localhost:8080/"
        },
        "id": "39I8cOchGOU_",
        "outputId": "c15a1a2f-5240-4861-c36e-f3d744d88b48"
      },
      "source": [
        "#Agregamos el vector resultados.\r\n",
        "R = np.array([1,5,0])\r\n",
        "#Hacemos que M inversa actue sobre R para obtener el resultado.\r\n",
        "print(np.round(Minv @ R))"
      ],
      "execution_count": null,
      "outputs": [
        {
          "output_type": "stream",
          "text": [
            "[3. 2. 4.]\n"
          ],
          "name": "stdout"
        }
      ]
    },
    {
      "cell_type": "code",
      "metadata": {
        "colab": {
          "base_uri": "https://localhost:8080/"
        },
        "id": "Z9kLPsjTGzEc",
        "outputId": "b009a929-88cc-4702-dde4-87264455d335"
      },
      "source": [
        "#Ahora utilizando scipy.linalg.solve\r\n",
        "solv = la.solve(M,R)\r\n",
        "print(solv)"
      ],
      "execution_count": null,
      "outputs": [
        {
          "output_type": "stream",
          "text": [
            "[3. 2. 4.]\n"
          ],
          "name": "stdout"
        }
      ]
    },
    {
      "cell_type": "markdown",
      "metadata": {
        "id": "kFwO8ycOG-au"
      },
      "source": [
        "# **Ejercicio 4.**\r\n",
        "Dadas las siguientes matrices B1,B2,B3.\\\r\n",
        "![image.png](data:image/png;base64,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)\r\n",
        "![image.png](data:image/png;base64,iVBORw0KGgoAAAANSUhEUgAAAIcAAABGCAYAAADmU4cbAAAFNElEQVR4Ae2dvbHVSBBGOwQyYH0cMoAQtjYByAAyABOPzWDXxwALFwx8yAAM/N0MoA7vdlUz0ki6rda7elffVKkkRpqe1jdn/lq3eGZKUkAKSAEpIAWkgBSQAlJACqQU+MvMPobjfsrKcQq9Clq9ufbXfmZmP8Lx4NpfeOX7vQ9afV9pa/fFgePP3Xu5Twc/7dOtOq8ER15LwZHX7upLCo6ZJn5sZk/M7N7Mc9nb2N8iVfgtODotAwyfzeypmf1xWsE/7DybyabxPpwWf5nyvTKt3+/MLOu34Oio/K+ZcXiiMf8vHEFoxJcbwNH6DRhZvwWHt34403Bsfxk1YkLkNi/eP/e6Go5qvwXHSIsySgAH55gIpsXRJN7LXFfDMeU308u5SXCMKEZcpAcHgFSl24Qj47fgGGlpwXEjiuAYgWNqeM70wJEqfmVp5Ogpc0v5mQipL+zasDsLUhq0KlXD4X63i+ZvZvZ3wmmNHB3RWMBFQdkSsg4h5lGVquHAL/yOi2b8zfotODotjaj0OA8gIfrzzrPZbGzScPT4qoTfjHDR7wj5OfUIjgm1aDSAoIe329qJYotuYS8elSNSld+CY1FTHvMhwXHMdl/01oJjkUzHfEhwHLPdF7214Fgk0918aO0uSHBMtDtbQGIGBJXYdq4VO1a1pW38fGFm/8UKE9ebwMEe+9HIkfBvdZFMhJRK2b7GUDmA8OOfirSlbfwjsgvUxFDWpE3gwCF6Bs4hKvt5nEXcyt635MWzcBBIaoNevE8bUl/iQ/vMlra9roro62ZwAAMieAIKxMXp20wZOIAZXznH9KUJqcd7S697thmlspHMsbp3DQdgAIgn/zZxl+GgAeNU4+92znkKjrW2ox+7hcNB8K+DjBr8mJaedxemFfweGzkER8Qvec1cjbi+Il87nVB+7uiNSJXTiuBIAhGLISKjhCfviRWLObe59JyBwz9zb7HmmLIdp+Gl79d7bpfTii8828UVPT/OqYjki1amnK2mmwwcCM7n+jga9Rq11zhT+XScaNs1a2GcsjF3b5dwMDoAQvui5MWeEbeJc7+VmJtSuB/FjsJl4cB/AHFosR/hjnWce72lbfdll3B4fMOd5OyO+g9QyHPR/X6EJZZde52Fg3oBnffBN94h+rzWry1tAx/+clAPo14mlcY5cISQLT359SmEy6jA0Y4k0VkaIPsC0c7Y9Ro4xuwdKa8UjoxwjCa+5c2UnysjOOYU6t+/KByAwWizZRIceXUvBgfzN1OPf6Db45ojL+t1lLwYHIwYvmjyhdMWkmrkyKt6MTjyLp9Xci0cLKTfnlfloqfpHCzEWW/ROSpTlW3BMdEqNByxDXZflYnGa2Mo/xRVUGlbcMw0Cr26Go42+sr6izpiHGjGre5tbDMieVpjW3C4ip1zNRwAAAht3KcNqXfcmcz2ED+jR0zYjsDEe1PXgmNKndN6oHLkAIoxOJi+1obnq20LDsHRVUBwdKW5uVE9rVT37uh+tW3BEdUdua6Go7fmYErhG9SaVG1bcMy0RjUcVMeOoo0Isw6p+MbU7oSoL2tbcFwADsDgB06egIJGrUg925mfGwiOiRZh1Ph66nl8B2JOr0psLZlG+K+zmVIqYhzuW5VtweGK6jxQQHAMJFGGKyA4XAmdBwoIjoEkynAFBIcrofNAAcExkEQZroDgcCV0HiggOAaSKMMVEByuhM4DBQ4BB98W/NAfHR4w8FvGof7osP5c+W9tP/uPQ/258lk19IAUkAJSQApIASkgBaTA/hX4CSDJk2et6YYoAAAAAElFTkSuQmCC)\r\n",
        "![image.png](data:image/png;base64,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)\r\n",
        "\r\n",
        "Encuentra los eigenvalores y eigenvectores de cada matriz utilizando la función de scipy.linalg.eig(), y contrasta tus resultados en cada caso con los que se desarrollan en los ejemplos de la Wikipedia."
      ]
    },
    {
      "cell_type": "code",
      "metadata": {
        "colab": {
          "base_uri": "https://localhost:8080/"
        },
        "id": "6auV_5PhG9EK",
        "outputId": "a74ef774-99ae-4b65-ea4e-a122bd0046fe"
      },
      "source": [
        "#Ingresamos las matrices.\r\n",
        "B1 = np.array([[2,0,0],[0,3,4],[0,4,9]])\r\n",
        "B2 = np.array([[0,1,0],[0,0,1],[1,0,0]])\r\n",
        "B3 = np.array([[2,0,0,0],[1,2,0,0],[0,1,3,0],[0,0,1,3]])\r\n",
        "print(B1)\r\n",
        "print('----------------------------------------')\r\n",
        "print(B2)\r\n",
        "print('----------------------------------------')\r\n",
        "print(B3)\r\n"
      ],
      "execution_count": null,
      "outputs": [
        {
          "output_type": "stream",
          "text": [
            "[[2 0 0]\n",
            " [0 3 4]\n",
            " [0 4 9]]\n",
            "----------------------------------------\n",
            "[[0 1 0]\n",
            " [0 0 1]\n",
            " [1 0 0]]\n",
            "----------------------------------------\n",
            "[[2 0 0 0]\n",
            " [1 2 0 0]\n",
            " [0 1 3 0]\n",
            " [0 0 1 3]]\n"
          ],
          "name": "stdout"
        }
      ]
    },
    {
      "cell_type": "code",
      "metadata": {
        "colab": {
          "base_uri": "https://localhost:8080/"
        },
        "id": "DhTtMGleIQ5o",
        "outputId": "460967dc-7b45-4aad-c951-81824faafbb0"
      },
      "source": [
        "#Eigenvalores/vectores con cipy.linalg.eig()\r\n",
        "eigvals1, eigvecs1 = la.eig(B1)\r\n",
        "eigvals2, eigvecs2 = la.eig(B2)\r\n",
        "eigvals3, eigvecs3 = la.eig(B3)\r\n",
        "\r\n",
        "#Imprimimos para B1:\r\n",
        "print('Eigenvalores B1')\r\n",
        "print(np.round(eigvals1,2))\r\n",
        "print('Eigenvectores B1')\r\n",
        "print(np.round(eigvecs1,2))\r\n",
        "print('---------------------------')\r\n",
        "#Imprimimos para B2:\r\n",
        "print('Eigenvalores B2')\r\n",
        "print(np.round(eigvals2,2))\r\n",
        "print('Eigenvectores B2')\r\n",
        "print(np.round(eigvecs2,2))\r\n",
        "print('---------------------------')\r\n",
        "#Imprimimos para B3:\r\n",
        "print('Eigenvalores B3')\r\n",
        "print(np.round(eigvals3,2))\r\n",
        "print('Eigenvectores B3')\r\n",
        "print(np.round(eigvecs3,2))"
      ],
      "execution_count": null,
      "outputs": [
        {
          "output_type": "stream",
          "text": [
            "Eigenvalores B1\n",
            "[11.+0.j  1.+0.j  2.+0.j]\n",
            "Eigenvectores B1\n",
            "[[ 0.    0.    1.  ]\n",
            " [ 0.45  0.89  0.  ]\n",
            " [ 0.89 -0.45  0.  ]]\n",
            "---------------------------\n",
            "Eigenvalores B2\n",
            "[-0.5+0.87j -0.5-0.87j  1. +0.j  ]\n",
            "Eigenvectores B2\n",
            "[[ 0.58+0.j   0.58-0.j  -0.58+0.j ]\n",
            " [-0.29+0.5j -0.29-0.5j -0.58+0.j ]\n",
            " [-0.29-0.5j -0.29+0.5j -0.58+0.j ]]\n",
            "---------------------------\n",
            "Eigenvalores B3\n",
            "[3.+0.j 3.+0.j 2.+0.j 2.+0.j]\n",
            "Eigenvectores B3\n",
            "[[ 0.    0.    0.    0.  ]\n",
            " [ 0.    0.    0.58 -0.58]\n",
            " [ 0.    0.   -0.58  0.58]\n",
            " [ 1.   -1.    0.58 -0.58]]\n"
          ],
          "name": "stdout"
        }
      ]
    },
    {
      "cell_type": "code",
      "metadata": {
        "colab": {
          "base_uri": "https://localhost:8080/"
        },
        "id": "Wi8gfw7WMO5o",
        "outputId": "9c83e17b-242e-4563-9ad3-bd77efa6b598"
      },
      "source": [
        "#Matriz de eigenvectores en B1 (para observar.)\r\n",
        "print(eigvecs1)\r\n"
      ],
      "execution_count": null,
      "outputs": [
        {
          "output_type": "stream",
          "text": [
            "[[ 0.          0.          1.        ]\n",
            " [ 0.4472136   0.89442719  0.        ]\n",
            " [ 0.89442719 -0.4472136   0.        ]]\n"
          ],
          "name": "stdout"
        }
      ]
    },
    {
      "cell_type": "code",
      "metadata": {
        "colab": {
          "base_uri": "https://localhost:8080/"
        },
        "id": "rT3lqJh5MEIh",
        "outputId": "5420b1dd-2d00-487f-a290-24673681b5fa"
      },
      "source": [
        "#Realizamos el ejemplo en wikipedia y comparamos.\r\n",
        "#matriz de eigenvectores:\r\n",
        "B1vec = np.array([[0,0,1],[0.4472136,0.89442719,0],[0.89442719,-0.4472136,0]])\r\n",
        "print('Matriz de Eigenvalores de B1')\r\n",
        "print(B1vec)"
      ],
      "execution_count": null,
      "outputs": [
        {
          "output_type": "stream",
          "text": [
            "La Matriz de Eigenvalores de B1\n",
            "[[ 0.          0.          1.        ]\n",
            " [ 0.4472136   0.89442719  0.        ]\n",
            " [ 0.89442719 -0.4472136   0.        ]]\n"
          ],
          "name": "stdout"
        }
      ]
    },
    {
      "cell_type": "code",
      "metadata": {
        "colab": {
          "base_uri": "https://localhost:8080/"
        },
        "id": "182bzF1WPZfe",
        "outputId": "051b868a-243b-4c95-e2d3-f03d2d19e854"
      },
      "source": [
        "#Observamos los eigenvalores de B1\r\n",
        "print(eigvals1)"
      ],
      "execution_count": null,
      "outputs": [
        {
          "output_type": "stream",
          "text": [
            "[11.+0.j  1.+0.j  2.+0.j]\n"
          ],
          "name": "stdout"
        }
      ]
    },
    {
      "cell_type": "code",
      "metadata": {
        "colab": {
          "base_uri": "https://localhost:8080/"
        },
        "id": "D5HW4CoYPVtR",
        "outputId": "a8640437-4842-4fcb-c1fb-bfb3f1d7556c"
      },
      "source": [
        "#Definimos la diagonal de eigenvalores.\r\n",
        "B1diag = np.diag((11,1,2))\r\n",
        "print('Matriz Diagonal de Eigenvalores de B1')\r\n",
        "print(B1diag)"
      ],
      "execution_count": null,
      "outputs": [
        {
          "output_type": "stream",
          "text": [
            "Matriz Diagonal de Eigenvalores de B1\n",
            "[[11  0  0]\n",
            " [ 0  1  0]\n",
            " [ 0  0  2]]\n"
          ],
          "name": "stdout"
        }
      ]
    },
    {
      "cell_type": "code",
      "metadata": {
        "colab": {
          "base_uri": "https://localhost:8080/"
        },
        "id": "d6Xe1LM8PyvL",
        "outputId": "b112edf8-f862-4414-a5ff-115326078618"
      },
      "source": [
        "#Determinamos la B1 con lo siguiente: M = P D P^{-1}\r\n",
        "M = B1vec@B1diag@la.inv(B1vec)\r\n",
        "print(M)"
      ],
      "execution_count": null,
      "outputs": [
        {
          "output_type": "stream",
          "text": [
            "[[2.         0.         0.        ]\n",
            " [0.         3.00000004 4.00000003]\n",
            " [0.         4.00000003 8.99999996]]\n"
          ],
          "name": "stdout"
        }
      ]
    },
    {
      "cell_type": "code",
      "metadata": {
        "colab": {
          "base_uri": "https://localhost:8080/"
        },
        "id": "EEnUV_K-QO04",
        "outputId": "2420d48a-b9fa-4259-dae1-15492430cd2c"
      },
      "source": [
        "#Calculamos la potencia k=25 de B1\r\n",
        "k=25\r\n",
        "B1vec_inv = la.inv(B1vec)\r\n",
        "print('Matriz de Eigenvectores:')\r\n",
        "print(B1vec)\r\n",
        "print('Matriz inversa de B1vec:')\r\n",
        "print(B1vec_inv)"
      ],
      "execution_count": null,
      "outputs": [
        {
          "output_type": "stream",
          "text": [
            "Matriz de Eigenvectores:\n",
            "[[ 0.          0.          1.        ]\n",
            " [ 0.4472136   0.89442719  0.        ]\n",
            " [ 0.89442719 -0.4472136   0.        ]]\n",
            "Matriz inversa de B1vec:\n",
            "[[-0.          0.4472136   0.89442719]\n",
            " [-0.          0.89442719 -0.4472136 ]\n",
            " [ 1.          0.          0.        ]]\n"
          ],
          "name": "stdout"
        }
      ]
    },
    {
      "cell_type": "code",
      "metadata": {
        "colab": {
          "base_uri": "https://localhost:8080/"
        },
        "id": "myLkHlWoQqMz",
        "outputId": "095a7bbf-7655-4a1e-ffbf-996090a4de17"
      },
      "source": [
        "#Propiedad de diagonalización:\r\n",
        "print(B1vec@B1diag**25@B1vec_inv)"
      ],
      "execution_count": null,
      "outputs": [
        {
          "output_type": "stream",
          "text": [
            "[[ 3.35544320e+07  0.00000000e+00  0.00000000e+00]\n",
            " [ 0.00000000e+00 -5.12702763e+17 -1.02540552e+18]\n",
            " [ 0.00000000e+00 -1.02540552e+18 -2.05081101e+18]]\n"
          ],
          "name": "stdout"
        }
      ]
    },
    {
      "cell_type": "markdown",
      "metadata": {
        "id": "c0tFEPkDRGSz"
      },
      "source": [
        "# **Actividad 5.**\r\n",
        "Se tienen los siguientes 8 puntos:\r\n",
        "\r\n",
        "![image.png](data:image/png;base64,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)\r\n",
        "\r\n",
        "Encuentre un polinomio interpolante p(x) que pase por los 8 puntos.\r\n",
        "Sobreponga la función y = sin(x) y contrástela con el polinomio p(x)."
      ]
    },
    {
      "cell_type": "code",
      "metadata": {
        "colab": {
          "base_uri": "https://localhost:8080/"
        },
        "id": "fCKSn4hwRkZ0",
        "outputId": "25de6db8-da66-49a0-a650-7e1a654f192a"
      },
      "source": [
        "#Polinomio de grado 7.\r\n",
        "x = np.array([0,0.5,1,1.5,2,2.5,3,3.5])\r\n",
        "y = np.array([0,0.47942,0.84147,0.99749,0.90930,0.59847,0.14112,-0.35078]).reshape(8,1)\r\n",
        "\r\n",
        "X = np.column_stack([x**k for k in range(0,8)])\r\n",
        "#Solución para Xa=y usando spicy.linalg=la\r\n",
        "a = la.solve(X,y)\r\n",
        "print(a)"
      ],
      "execution_count": null,
      "outputs": [
        {
          "output_type": "stream",
          "text": [
            "[[ 0.00000000e+00]\n",
            " [ 1.00067181e+00]\n",
            " [-3.70788889e-03]\n",
            " [-1.58867889e-01]\n",
            " [-8.30222222e-03]\n",
            " [ 1.31964444e-02]\n",
            " [-1.54488889e-03]\n",
            " [ 2.46349206e-05]]\n"
          ],
          "name": "stdout"
        }
      ]
    },
    {
      "cell_type": "code",
      "metadata": {
        "colab": {
          "base_uri": "https://localhost:8080/",
          "height": 295
        },
        "id": "k5LK1hWsSm1u",
        "outputId": "7e4fcf39-5745-45e0-de63-36f6ae3b4df5"
      },
      "source": [
        "#Graficamos.\r\n",
        "#Resultados del polinomio interpolante de a0,a1,a2-\r\n",
        "xs = np.linspace(0,4,10)\r\n",
        "ys_temp = 0\r\n",
        "for k in range(0,8):\r\n",
        "  ys = ys_temp + a[k]*xs**k\r\n",
        "  ys_temp = ys\r\n",
        "plt.plot(xs,ys,x,y,'b.',x,np.sin(x))\r\n",
        "plt.grid()\r\n",
        "plt.title('Polinomio interpolante p(x)')\r\n",
        "plt.xlabel('x')\r\n",
        "plt.ylabel('y')\r\n",
        "plt.show()"
      ],
      "execution_count": null,
      "outputs": [
        {
          "output_type": "display_data",
          "data": {
            "image/png": "[encoded data removed]",
            "text/plain": [
              "<Figure size 432x288 with 1 Axes>"
            ]
          },
          "metadata": {
            "tags": [],
            "needs_background": "light"
          }
        }
      ]
    },
    {
      "cell_type": "markdown",
      "metadata": {
        "id": "iUNsUVG_T2Cs"
      },
      "source": [
        "# **Actividad 6.**\r\n",
        "\r\n",
        "Regrese a su modelo de análisis de series de tiempo. Haga una descomposición de su serie de tiempo de las temperaturas (Tmax y Tmin), y realice una regresión lineal sobre la serie de Tendencia de Temp $(T = a_0 + a_1 t)$. Encuentre si la pendiente es positiva o negativa de la tendencia (signo de $a_1$), es decir si las Temperaturas (Tmax, Tmin) están subiendo o bajando en el periodo analizado."
      ]
    },
    {
      "cell_type": "markdown",
      "metadata": {
        "id": "pj5goANJ2vhK"
      },
      "source": [
        "No pudo leer el csv. Se me imposibilitó realizar esta actividad."
      ]
    }
  ]
}