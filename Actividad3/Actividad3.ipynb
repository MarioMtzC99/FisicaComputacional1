{
  "nbformat": 4,
  "nbformat_minor": 0,
  "metadata": {
    "colab": {
      "name": "Actividad3.ipynb",
      "provenance": [],
      "collapsed_sections": []
    },
    "kernelspec": {
      "name": "python3",
      "display_name": "Python 3"
    }
  },
  "cells": [
    {
      "cell_type": "markdown",
      "metadata": {
        "id": "0CD3s9ibTof_"
      },
      "source": [
        "**Actividad a realizar.**\\\r\n",
        "**Paso 1.-**Abre un nuevo cuaderno de trabajo Jupyter en Google Colab, llamado Actividad3. Carga las bibliotecas Numpy y Pandas. Enseguida define un nuevo DataFrame df con la ayuda de la función de Pandas pd.read_csv, leyendo el archivo csv con los datos climatológicos de la estación meteorológica que has seleccionado para estas actividades y que has almacenado en tu repositorio en Github.\r\n",
        "\r\n"
      ]
    },
    {
      "cell_type": "code",
      "metadata": {
        "id": "p_VCa5y4-0ux"
      },
      "source": [
        "#Primeramente lo que hacemos es importar las bibliotecas correspondientes: Pandas y numpy. Después lo que se hará es definir la URL que viene de nuestro Github.\r\n",
        "#Después definimos nuestras columnas iguales o muy parecidas a las que vienen en el archivo de texto que queremos leer.\r\n",
        "#Definimos ahora el DataFrame con las carácterísticas necesarias para que lea nuestro csv. En este caso, como hablamos en un idioma español\r\n",
        "#Es necesario colocar el encoding correspondiente de pandas. Después ingresamos las columnas que quiere leer.\r\n",
        "#Con header decimos que no habrá encabezados.\r\n",
        "#Gracias a las opciones skip (row o footer) nos encargamos de saltarnos los renglones que no nos importan en el archivo, para que lea solo los datos correspondientes.\r\n",
        "#Como estamos trabajando con python, aunque suene obvio, al final ingresamos el engine con el que trabajaremos.\r\n",
        "#Al correr el programa no debería saltar ningún problema.\r\n",
        "import numpy as np \r\n",
        "import pandas as pd\r\n",
        "url = 'https://raw.githubusercontent.com/MarioMtzC99/FisicaComputacional1/main/Actividad1/DatosClimatolog%C3%ADaPitiquito.txt'\r\n",
        "mis_columnas = ['Fecha', 'Precip', 'Evap', 'Tmax', 'Tmin']\r\n",
        "df_carac = pd.read_csv(url, names=mis_columnas, encoding='cp1251', sep='\\s+', header=None, skiprows=19, skipfooter=1, engine='python')"
      ],
      "execution_count": 4,
      "outputs": []
    },
    {
      "cell_type": "markdown",
      "metadata": {
        "id": "mNcWWO_aZL0a"
      },
      "source": [
        "**Paso 2.-**Una vez que hayas leído tu archivo de datos, usando la función df.head(n) y df.tail(), y estudia la estructura de tu archivo, para determinar que renglones trae la información de los nombres de las columnas y en qué número de renglón comienzan los datos. Lo que buscamos es quedarnos con un DataFrame con los nombres de las columnas en el primer renglón y el resto de renglones serán sólo datos diarios de la estación meteorológica. "
      ]
    },
    {
      "cell_type": "code",
      "metadata": {
        "colab": {
          "base_uri": "https://localhost:8080/"
        },
        "id": "S5nRXrjjYyYR",
        "outputId": "e7370707-e66c-440a-dd86-c488cda92724"
      },
      "source": [
        "#Podemos observar como el archivo por lo menos comienza bien y termina bien.\r\n",
        "print(df_carac.head())\r\n",
        "print(df_carac.tail())\r\n",
        "\r\n",
        "\r\n",
        "#Podemos observar que está justo como nos interesa, ya que los nombres están en el primer renglón.\r\n",
        "#Además nos interesa quitar ese \"Nulo\", debido a que queremos que Python lo vea como un NaN y no como caracteres."
      ],
      "execution_count": 5,
      "outputs": [
        {
          "output_type": "stream",
          "text": [
            "        Fecha Precip  Evap  Tmax  Tmin\n",
            "0  01/07/1952      0  Nulo    42    22\n",
            "1  02/07/1952      0  Nulo  42.5    25\n",
            "2  03/07/1952      0  Nulo    43  25.5\n",
            "3  04/07/1952      0  Nulo    44  27.5\n",
            "4  05/07/1952      0  Nulo  43.5  25.5\n",
            "            Fecha Precip  Evap Tmax  Tmin\n",
            "21580  27/12/2015      0  Nulo   16    -4\n",
            "21581  28/12/2015      0  Nulo   15    -4\n",
            "21582  29/12/2015      0  Nulo   15  -2.5\n",
            "21583  30/12/2015      0  Nulo   16    -3\n",
            "21584  31/12/2015      0  Nulo   14    -1\n"
          ],
          "name": "stdout"
        }
      ]
    },
    {
      "cell_type": "markdown",
      "metadata": {
        "id": "jEw-BVr4aYX-"
      },
      "source": [
        "**Paso 3.-**Enseguida se pide explorar el dataframe recién cargado a la memoria. Para esto, se pide hacer una bitácora anotando o agregando un comentario de las acciones desarrolladas."
      ]
    },
    {
      "cell_type": "markdown",
      "metadata": {
        "id": "grsrMHCGagCO"
      },
      "source": [
        "* Imprime el encabezado y final del dataframe: print(dif.head(10)),print(df.tail(10))\r\n",
        "\r\n"
      ]
    },
    {
      "cell_type": "code",
      "metadata": {
        "colab": {
          "base_uri": "https://localhost:8080/"
        },
        "id": "pDH_wd_MZC47",
        "outputId": "b0e5f161-e265-4b72-b01f-e53820e5f650"
      },
      "source": [
        "print(df_carac.head(10))\r\n",
        "print(df_carac.tail(10))"
      ],
      "execution_count": 6,
      "outputs": [
        {
          "output_type": "stream",
          "text": [
            "        Fecha Precip  Evap  Tmax  Tmin\n",
            "0  01/07/1952      0  Nulo    42    22\n",
            "1  02/07/1952      0  Nulo  42.5    25\n",
            "2  03/07/1952      0  Nulo    43  25.5\n",
            "3  04/07/1952      0  Nulo    44  27.5\n",
            "4  05/07/1952      0  Nulo  43.5  25.5\n",
            "5  06/07/1952      0  Nulo    44    26\n",
            "6  07/07/1952      0  Nulo    42    24\n",
            "7  08/07/1952      0  Nulo    41  26.5\n",
            "8  09/07/1952      0  Nulo    40    24\n",
            "9  10/07/1952   38.8  Nulo  40.5    25\n",
            "            Fecha Precip  Evap  Tmax  Tmin\n",
            "21575  22/12/2015      0  Nulo    20     1\n",
            "21576  23/12/2015      0  Nulo    21     4\n",
            "21577  24/12/2015      0  Nulo    21   4.5\n",
            "21578  25/12/2015      0  Nulo  19.5     2\n",
            "21579  26/12/2015      0  Nulo  12.5     3\n",
            "21580  27/12/2015      0  Nulo    16    -4\n",
            "21581  28/12/2015      0  Nulo    15    -4\n",
            "21582  29/12/2015      0  Nulo    15  -2.5\n",
            "21583  30/12/2015      0  Nulo    16    -3\n",
            "21584  31/12/2015      0  Nulo    14    -1\n"
          ],
          "name": "stdout"
        }
      ]
    },
    {
      "cell_type": "markdown",
      "metadata": {
        "id": "b3CY-REYbHUQ"
      },
      "source": [
        "* ¿Qué dimensiones tiene el dataframe?   \r\n",
        "\r\n"
      ]
    },
    {
      "cell_type": "code",
      "metadata": {
        "colab": {
          "base_uri": "https://localhost:8080/"
        },
        "id": "oNe-NP9YbO7o",
        "outputId": "e61dedda-c08a-4fc2-f26a-b8682cd999ac"
      },
      "source": [
        "df_carac.shape\r\n",
        "#Podemos observar que tiene 21585 filas y 5 columnas)"
      ],
      "execution_count": 7,
      "outputs": [
        {
          "output_type": "execute_result",
          "data": {
            "text/plain": [
              "(21585, 5)"
            ]
          },
          "metadata": {
            "tags": []
          },
          "execution_count": 7
        }
      ]
    },
    {
      "cell_type": "markdown",
      "metadata": {
        "id": "o0b__IRfbec0"
      },
      "source": [
        "* ¿Cómo es el contenido de tu dataframe?"
      ]
    },
    {
      "cell_type": "code",
      "metadata": {
        "colab": {
          "base_uri": "https://localhost:8080/"
        },
        "id": "F6LmF7F9bS5e",
        "outputId": "224c8739-050f-4d70-af50-fca497abc249"
      },
      "source": [
        "df_carac.info()\r\n",
        "#Tiene 21585 entradas con 5 columnas, la memoria usada es de 842.3+ KB.\r\n",
        "#Se observa que los datos los tiene como objetos y no como números.\r\n",
        "#En cada columna especifica que todos los datos son no nulos."
      ],
      "execution_count": 8,
      "outputs": [
        {
          "output_type": "stream",
          "text": [
            "<class 'pandas.core.frame.DataFrame'>\n",
            "RangeIndex: 21585 entries, 0 to 21584\n",
            "Data columns (total 5 columns):\n",
            " #   Column  Non-Null Count  Dtype \n",
            "---  ------  --------------  ----- \n",
            " 0   Fecha   21585 non-null  object\n",
            " 1   Precip  21585 non-null  object\n",
            " 2   Evap    21585 non-null  object\n",
            " 3   Tmax    21585 non-null  object\n",
            " 4   Tmin    21585 non-null  object\n",
            "dtypes: object(5)\n",
            "memory usage: 843.3+ KB\n"
          ],
          "name": "stdout"
        }
      ]
    },
    {
      "cell_type": "markdown",
      "metadata": {
        "id": "KrCRYV5ndD8u"
      },
      "source": [
        "* Los datos originales incluyen la cadena de caracteres 'Nulo', indicando que no hubo datos para esa variable, ese día. Tenemos que reemplazar la palabra nulo con la función: df.replace()"
      ]
    },
    {
      "cell_type": "code",
      "metadata": {
        "colab": {
          "base_uri": "https://localhost:8080/",
          "height": 204
        },
        "id": "OUko4CQEeWcq",
        "outputId": "61c3736e-adcd-457a-a022-05109c09652e"
      },
      "source": [
        "df_work = df_carac.copy()\r\n",
        "\r\n",
        "str_Nulo = 'Nulo'\r\n",
        "df_trabajo = df_work.replace(to_replace=str_Nulo, value='', regex=True)\r\n",
        "df_trabajo.head()"
      ],
      "execution_count": 11,
      "outputs": [
        {
          "output_type": "execute_result",
          "data": {
            "text/html": [
              "<div>\n",
              "<style scoped>\n",
              "    .dataframe tbody tr th:only-of-type {\n",
              "        vertical-align: middle;\n",
              "    }\n",
              "\n",
              "    .dataframe tbody tr th {\n",
              "        vertical-align: top;\n",
              "    }\n",
              "\n",
              "    .dataframe thead th {\n",
              "        text-align: right;\n",
              "    }\n",
              "</style>\n",
              "<table border=\"1\" class=\"dataframe\">\n",
              "  <thead>\n",
              "    <tr style=\"text-align: right;\">\n",
              "      <th></th>\n",
              "      <th>Fecha</th>\n",
              "      <th>Precip</th>\n",
              "      <th>Evap</th>\n",
              "      <th>Tmax</th>\n",
              "      <th>Tmin</th>\n",
              "    </tr>\n",
              "  </thead>\n",
              "  <tbody>\n",
              "    <tr>\n",
              "      <th>0</th>\n",
              "      <td>01/07/1952</td>\n",
              "      <td>0</td>\n",
              "      <td></td>\n",
              "      <td>42</td>\n",
              "      <td>22</td>\n",
              "    </tr>\n",
              "    <tr>\n",
              "      <th>1</th>\n",
              "      <td>02/07/1952</td>\n",
              "      <td>0</td>\n",
              "      <td></td>\n",
              "      <td>42.5</td>\n",
              "      <td>25</td>\n",
              "    </tr>\n",
              "    <tr>\n",
              "      <th>2</th>\n",
              "      <td>03/07/1952</td>\n",
              "      <td>0</td>\n",
              "      <td></td>\n",
              "      <td>43</td>\n",
              "      <td>25.5</td>\n",
              "    </tr>\n",
              "    <tr>\n",
              "      <th>3</th>\n",
              "      <td>04/07/1952</td>\n",
              "      <td>0</td>\n",
              "      <td></td>\n",
              "      <td>44</td>\n",
              "      <td>27.5</td>\n",
              "    </tr>\n",
              "    <tr>\n",
              "      <th>4</th>\n",
              "      <td>05/07/1952</td>\n",
              "      <td>0</td>\n",
              "      <td></td>\n",
              "      <td>43.5</td>\n",
              "      <td>25.5</td>\n",
              "    </tr>\n",
              "  </tbody>\n",
              "</table>\n",
              "</div>"
            ],
            "text/plain": [
              "        Fecha Precip Evap  Tmax  Tmin\n",
              "0  01/07/1952      0         42    22\n",
              "1  02/07/1952      0       42.5    25\n",
              "2  03/07/1952      0         43  25.5\n",
              "3  04/07/1952      0         44  27.5\n",
              "4  05/07/1952      0       43.5  25.5"
            ]
          },
          "metadata": {
            "tags": []
          },
          "execution_count": 11
        }
      ]
    },
    {
      "cell_type": "markdown",
      "metadata": {
        "id": "P7kvw1yxegka"
      },
      "source": [
        "* Después habrá que convertir a número flotante o numérico los datos de Precipitación, Evaporación, Temperatura Máxima y Temperatura mínima utilizando la función: df.to_numeric() "
      ]
    },
    {
      "cell_type": "code",
      "metadata": {
        "id": "l8CEVOMMnT7V"
      },
      "source": [
        "#Definimos la variable que  tendrá las columnas que queremos cambiar.\r\n",
        "columnas_list = ['Precip', 'Evap', 'Tmax', 'Tmin']\r\n",
        "#Agregamos un Loop para que los datos de las columnas sean numeros flotantes.\r\n",
        "for columnas in columnas_list:\r\n",
        "  df_trabajo[columnas] = pd.to_numeric(df_trabajo[columnas], errors='coerce')"
      ],
      "execution_count": 16,
      "outputs": []
    },
    {
      "cell_type": "markdown",
      "metadata": {
        "id": "txPmcsxXpJMY"
      },
      "source": [
        "* Contrasta ahora la información de tu DataFrame con la función: df.info() "
      ]
    },
    {
      "cell_type": "code",
      "metadata": {
        "id": "gEejEk7pU9i7",
        "colab": {
          "base_uri": "https://localhost:8080/"
        },
        "outputId": "be39a9f9-3e98-4fcb-b48d-2e0d52961f20"
      },
      "source": [
        "#pedimos la información el dataframe modificado.\r\n",
        "df_trabajo.info()\r\n",
        "\r\n",
        "#Observaremos que ahora las columnas que definimos son del tipo float64.(Números reales)"
      ],
      "execution_count": 17,
      "outputs": [
        {
          "output_type": "stream",
          "text": [
            "<class 'pandas.core.frame.DataFrame'>\n",
            "RangeIndex: 21585 entries, 0 to 21584\n",
            "Data columns (total 5 columns):\n",
            " #   Column  Non-Null Count  Dtype  \n",
            "---  ------  --------------  -----  \n",
            " 0   Fecha   21585 non-null  object \n",
            " 1   Precip  21536 non-null  float64\n",
            " 2   Evap    14380 non-null  float64\n",
            " 3   Tmax    21528 non-null  float64\n",
            " 4   Tmin    21529 non-null  float64\n",
            "dtypes: float64(4), object(1)\n",
            "memory usage: 843.3+ KB\n"
          ],
          "name": "stdout"
        }
      ]
    },
    {
      "cell_type": "markdown",
      "metadata": {
        "id": "MlxCPe0JpkjL"
      },
      "source": [
        "* Se puede contabilizar el número de datos faltantes en esas variables mediante la función: df.isnull().sum()"
      ]
    },
    {
      "cell_type": "code",
      "metadata": {
        "colab": {
          "base_uri": "https://localhost:8080/"
        },
        "id": "R5VoIk2_pbWv",
        "outputId": "3668bc12-bc55-4ce0-cc21-dfe8932bd337"
      },
      "source": [
        "df_trabajo.isnull().sum()\r\n",
        "#Vemos cuantos datos nulos o vacios hay en cada columna."
      ],
      "execution_count": 18,
      "outputs": [
        {
          "output_type": "execute_result",
          "data": {
            "text/plain": [
              "Fecha        0\n",
              "Precip      49\n",
              "Evap      7205\n",
              "Tmax        57\n",
              "Tmin        56\n",
              "dtype: int64"
            ]
          },
          "metadata": {
            "tags": []
          },
          "execution_count": 18
        }
      ]
    },
    {
      "cell_type": "markdown",
      "metadata": {
        "id": "rNyYDYN6p5m0"
      },
      "source": [
        "* Imprime de nuevo el encabezado y final de tu dataframe, con las funciones df.head() y df.tail()"
      ]
    },
    {
      "cell_type": "code",
      "metadata": {
        "colab": {
          "base_uri": "https://localhost:8080/"
        },
        "id": "pVPX2tempuim",
        "outputId": "0b4fa167-3ff6-4518-eb73-da7bdaa722c8"
      },
      "source": [
        "#Ahora observamos como queda nuestra tabla actualizada.\r\n",
        "print(df_trabajo.head())\r\n",
        "print(df_trabajo.tail())"
      ],
      "execution_count": 20,
      "outputs": [
        {
          "output_type": "stream",
          "text": [
            "        Fecha  Precip  Evap  Tmax  Tmin\n",
            "0  01/07/1952     0.0   NaN  42.0  22.0\n",
            "1  02/07/1952     0.0   NaN  42.5  25.0\n",
            "2  03/07/1952     0.0   NaN  43.0  25.5\n",
            "3  04/07/1952     0.0   NaN  44.0  27.5\n",
            "4  05/07/1952     0.0   NaN  43.5  25.5\n",
            "            Fecha  Precip  Evap  Tmax  Tmin\n",
            "21580  27/12/2015     0.0   NaN  16.0  -4.0\n",
            "21581  28/12/2015     0.0   NaN  15.0  -4.0\n",
            "21582  29/12/2015     0.0   NaN  15.0  -2.5\n",
            "21583  30/12/2015     0.0   NaN  16.0  -3.0\n",
            "21584  31/12/2015     0.0   NaN  14.0  -1.0\n"
          ],
          "name": "stdout"
        }
      ]
    },
    {
      "cell_type": "markdown",
      "metadata": {
        "id": "UdCCeVIlqKG_"
      },
      "source": [
        "* Realiza una estadística básica de las variables numéricas de tu dataframe usando la función: df.describe() y haz una interpretación de los resultados, para ver si tienen sentido físico (por ej. valores negativos de precipitación, valores extremos fuera de lo normal, etc)"
      ]
    },
    {
      "cell_type": "code",
      "metadata": {
        "colab": {
          "base_uri": "https://localhost:8080/",
          "height": 297
        },
        "id": "aqLOY60HqEvl",
        "outputId": "912bf6dc-d252-4fda-8215-25e91bfa966d"
      },
      "source": [
        "#Usamos cuatro cifras significativas.\r\n",
        "df_trabajo.describe().round(4)"
      ],
      "execution_count": 21,
      "outputs": [
        {
          "output_type": "execute_result",
          "data": {
            "text/html": [
              "<div>\n",
              "<style scoped>\n",
              "    .dataframe tbody tr th:only-of-type {\n",
              "        vertical-align: middle;\n",
              "    }\n",
              "\n",
              "    .dataframe tbody tr th {\n",
              "        vertical-align: top;\n",
              "    }\n",
              "\n",
              "    .dataframe thead th {\n",
              "        text-align: right;\n",
              "    }\n",
              "</style>\n",
              "<table border=\"1\" class=\"dataframe\">\n",
              "  <thead>\n",
              "    <tr style=\"text-align: right;\">\n",
              "      <th></th>\n",
              "      <th>Precip</th>\n",
              "      <th>Evap</th>\n",
              "      <th>Tmax</th>\n",
              "      <th>Tmin</th>\n",
              "    </tr>\n",
              "  </thead>\n",
              "  <tbody>\n",
              "    <tr>\n",
              "      <th>count</th>\n",
              "      <td>21536.0000</td>\n",
              "      <td>14380.0000</td>\n",
              "      <td>21528.0000</td>\n",
              "      <td>21529.0000</td>\n",
              "    </tr>\n",
              "    <tr>\n",
              "      <th>mean</th>\n",
              "      <td>0.6742</td>\n",
              "      <td>7.1673</td>\n",
              "      <td>31.3675</td>\n",
              "      <td>12.3381</td>\n",
              "    </tr>\n",
              "    <tr>\n",
              "      <th>std</th>\n",
              "      <td>3.7723</td>\n",
              "      <td>3.7375</td>\n",
              "      <td>8.1094</td>\n",
              "      <td>7.8970</td>\n",
              "    </tr>\n",
              "    <tr>\n",
              "      <th>min</th>\n",
              "      <td>0.0000</td>\n",
              "      <td>0.0000</td>\n",
              "      <td>4.0000</td>\n",
              "      <td>-11.0000</td>\n",
              "    </tr>\n",
              "    <tr>\n",
              "      <th>25%</th>\n",
              "      <td>0.0000</td>\n",
              "      <td>4.0000</td>\n",
              "      <td>25.0000</td>\n",
              "      <td>6.0000</td>\n",
              "    </tr>\n",
              "    <tr>\n",
              "      <th>50%</th>\n",
              "      <td>0.0000</td>\n",
              "      <td>6.9000</td>\n",
              "      <td>32.0000</td>\n",
              "      <td>11.0000</td>\n",
              "    </tr>\n",
              "    <tr>\n",
              "      <th>75%</th>\n",
              "      <td>0.0000</td>\n",
              "      <td>9.9250</td>\n",
              "      <td>38.5000</td>\n",
              "      <td>19.0000</td>\n",
              "    </tr>\n",
              "    <tr>\n",
              "      <th>max</th>\n",
              "      <td>97.0000</td>\n",
              "      <td>18.0000</td>\n",
              "      <td>48.0000</td>\n",
              "      <td>30.5000</td>\n",
              "    </tr>\n",
              "  </tbody>\n",
              "</table>\n",
              "</div>"
            ],
            "text/plain": [
              "           Precip        Evap        Tmax        Tmin\n",
              "count  21536.0000  14380.0000  21528.0000  21529.0000\n",
              "mean       0.6742      7.1673     31.3675     12.3381\n",
              "std        3.7723      3.7375      8.1094      7.8970\n",
              "min        0.0000      0.0000      4.0000    -11.0000\n",
              "25%        0.0000      4.0000     25.0000      6.0000\n",
              "50%        0.0000      6.9000     32.0000     11.0000\n",
              "75%        0.0000      9.9250     38.5000     19.0000\n",
              "max       97.0000     18.0000     48.0000     30.5000"
            ]
          },
          "metadata": {
            "tags": []
          },
          "execution_count": 21
        }
      ]
    },
    {
      "cell_type": "markdown",
      "metadata": {
        "id": "BoFILAS4qeQn"
      },
      "source": [
        "Podemos ver en un análisis a simple vista que las precipitaciones se encuentran dentro de lo normal esperado en el desierto. Sin tener datos que no tengan una interpretación extraña.\\\r\n",
        "En cuanto a evaporación, podemos ver por los datos que la curva se presenta un poco más alto hacia la derecha en el tercer cuartil, lo que nos indica que las precipitaciones se presentan más a menudo durante los últimos meses del año. Al igual, como se presentan las precipitaciones se presentan las humedades.\r\n",
        "\r\n",
        "La temperatura media máxima presente en el municipio de Pitiquito es de 31 grados centígrados y una mínima de 12.33 grados centígrados.\r\n",
        "\r\n"
      ]
    },
    {
      "cell_type": "markdown",
      "metadata": {
        "id": "KVA4PXWdtJXq"
      },
      "source": [
        "**Paso 4.-**Análisis de la variable Fecha. Pandas maneja las variables tipo Fecha y Tiempo. Ofrece una serie de herramientas para su manipulación. Lo que sigue es convertir el objeto que se ha leído a una variable que Python comprenda.  "
      ]
    },
    {
      "cell_type": "markdown",
      "metadata": {
        "id": "PZlxJ-CbtUr0"
      },
      "source": [
        "* Comienza haciendo una copia del dataframe del paso anterior, por si se requiere recuperar el nuevo dataframe, utilizando df:new=df.copy()"
      ]
    },
    {
      "cell_type": "code",
      "metadata": {
        "colab": {
          "base_uri": "https://localhost:8080/"
        },
        "id": "x0VDmyamqadE",
        "outputId": "028b1df8-1f52-458d-e095-e4ae2ad5cdb0"
      },
      "source": [
        "#Realizamos una copia nueva para no perder el dataframe.\r\n",
        "df_paso4 = df_trabajo.copy()\r\n",
        "#Mostramos la columna de fecha.\r\n",
        "df_paso4['Fecha'].head()"
      ],
      "execution_count": 22,
      "outputs": [
        {
          "output_type": "execute_result",
          "data": {
            "text/plain": [
              "0    01/07/1952\n",
              "1    02/07/1952\n",
              "2    03/07/1952\n",
              "3    04/07/1952\n",
              "4    05/07/1952\n",
              "Name: Fecha, dtype: object"
            ]
          },
          "metadata": {
            "tags": []
          },
          "execution_count": 22
        }
      ]
    },
    {
      "cell_type": "markdown",
      "metadata": {
        "id": "OWJJbUkgt1iK"
      },
      "source": [
        "* Utiliza la función de Pandas pd.to_datetime(), para convertir el objeto Fecha a formato de fecha que comprende Python.  Lee el manual de esa función e intenta la conversión. "
      ]
    },
    {
      "cell_type": "code",
      "metadata": {
        "colab": {
          "base_uri": "https://localhost:8080/"
        },
        "id": "fV0KttsetmNw",
        "outputId": "49e1052f-38f8-4a05-af87-bececaf2369e"
      },
      "source": [
        "#Lo que hacemos es establecer una copia del cambio de la fecha con ayuda de\r\n",
        "#pd.to_datetime.\r\n",
        "#Definimos que queremos que la nueva copia cambie la Fecha, considerando el día como lo primero que debe aparecer.\r\n",
        "df_paso4['Fecha']=pd.to_datetime(df_paso4['Fecha'], dayfirst=True).copy()\r\n",
        "#Imprimimos para ver como se observa.\r\n",
        "print(df_trabajo.head())"
      ],
      "execution_count": 24,
      "outputs": [
        {
          "output_type": "stream",
          "text": [
            "        Fecha  Precip  Evap  Tmax  Tmin\n",
            "0  01/07/1952     0.0   NaN  42.0  22.0\n",
            "1  02/07/1952     0.0   NaN  42.5  25.0\n",
            "2  03/07/1952     0.0   NaN  43.0  25.5\n",
            "3  04/07/1952     0.0   NaN  44.0  27.5\n",
            "4  05/07/1952     0.0   NaN  43.5  25.5\n"
          ],
          "name": "stdout"
        }
      ]
    },
    {
      "cell_type": "markdown",
      "metadata": {
        "id": "Hdy3bQRPunUb"
      },
      "source": [
        "* Después utiliza la función df.dtypes para verificar que todas las variables son del tipo deseado.  "
      ]
    },
    {
      "cell_type": "code",
      "metadata": {
        "colab": {
          "base_uri": "https://localhost:8080/"
        },
        "id": "rWpWp2LTuIwk",
        "outputId": "2a0c6150-4261-4a87-c14d-4c49e307c109"
      },
      "source": [
        "#Con dtypes, vemos que la fecha es del tipo datetime, y las demás columnas del tipo real, como lo queremos.\r\n",
        "df_paso4.dtypes"
      ],
      "execution_count": 26,
      "outputs": [
        {
          "output_type": "execute_result",
          "data": {
            "text/plain": [
              "Fecha     datetime64[ns]\n",
              "Precip           float64\n",
              "Evap             float64\n",
              "Tmax             float64\n",
              "Tmin             float64\n",
              "dtype: object"
            ]
          },
          "metadata": {
            "tags": []
          },
          "execution_count": 26
        }
      ]
    },
    {
      "cell_type": "markdown",
      "metadata": {
        "id": "ICq2x40QvANH"
      },
      "source": [
        "* Enseguida con la ayuda de las funciones de Pandas df['Fecha'].dt.year y df['Fecha'].dt.month, crea dos columnas nuevas adicionales df['Año'] y df['Mes']."
      ]
    },
    {
      "cell_type": "code",
      "metadata": {
        "id": "XvXNES5BuuaV"
      },
      "source": [
        "#Definimos Año y Mes para separar la fechas.\r\n",
        "df_paso4['Año'] = df_paso4['Fecha'].dt.year\r\n",
        "df_paso4['Mes'] = df_paso4['Fecha'].dt.month"
      ],
      "execution_count": 27,
      "outputs": []
    },
    {
      "cell_type": "markdown",
      "metadata": {
        "id": "i6TQeLFlvqEL"
      },
      "source": [
        "* Utilizando la función print aplicado a las funciones df.head() y df.tail(), verifica que el dataframe tiene la forma deseada."
      ]
    },
    {
      "cell_type": "code",
      "metadata": {
        "colab": {
          "base_uri": "https://localhost:8080/"
        },
        "id": "uLDqxxfDvW8E",
        "outputId": "cef3565f-9f1c-48d3-9201-be008abb2466"
      },
      "source": [
        "print(df_paso4.head())\r\n",
        "print(df_paso4.tail())"
      ],
      "execution_count": 28,
      "outputs": [
        {
          "output_type": "stream",
          "text": [
            "       Fecha  Precip  Evap  Tmax  Tmin   Año  Mes\n",
            "0 1952-07-01     0.0   NaN  42.0  22.0  1952    7\n",
            "1 1952-07-02     0.0   NaN  42.5  25.0  1952    7\n",
            "2 1952-07-03     0.0   NaN  43.0  25.5  1952    7\n",
            "3 1952-07-04     0.0   NaN  44.0  27.5  1952    7\n",
            "4 1952-07-05     0.0   NaN  43.5  25.5  1952    7\n",
            "           Fecha  Precip  Evap  Tmax  Tmin   Año  Mes\n",
            "21580 2015-12-27     0.0   NaN  16.0  -4.0  2015   12\n",
            "21581 2015-12-28     0.0   NaN  15.0  -4.0  2015   12\n",
            "21582 2015-12-29     0.0   NaN  15.0  -2.5  2015   12\n",
            "21583 2015-12-30     0.0   NaN  16.0  -3.0  2015   12\n",
            "21584 2015-12-31     0.0   NaN  14.0  -1.0  2015   12\n"
          ],
          "name": "stdout"
        }
      ]
    },
    {
      "cell_type": "markdown",
      "metadata": {
        "id": "z_IZn7Nyv2Qe"
      },
      "source": [
        "*Y complementa con la función df.dtypes, para verificar que todas las variables son del tipo adecuado.  "
      ]
    },
    {
      "cell_type": "code",
      "metadata": {
        "colab": {
          "base_uri": "https://localhost:8080/"
        },
        "id": "svK2Zy-_vxLC",
        "outputId": "e9c1ec56-27d4-4888-a8c9-e8b51343b43a"
      },
      "source": [
        "#Verificamos que son del tipo que deseamos.\r\n",
        "df_paso4.info()\r\n"
      ],
      "execution_count": 30,
      "outputs": [
        {
          "output_type": "stream",
          "text": [
            "<class 'pandas.core.frame.DataFrame'>\n",
            "RangeIndex: 21585 entries, 0 to 21584\n",
            "Data columns (total 7 columns):\n",
            " #   Column  Non-Null Count  Dtype         \n",
            "---  ------  --------------  -----         \n",
            " 0   Fecha   21585 non-null  datetime64[ns]\n",
            " 1   Precip  21536 non-null  float64       \n",
            " 2   Evap    14380 non-null  float64       \n",
            " 3   Tmax    21528 non-null  float64       \n",
            " 4   Tmin    21529 non-null  float64       \n",
            " 5   Año     21585 non-null  int64         \n",
            " 6   Mes     21585 non-null  int64         \n",
            "dtypes: datetime64[ns](1), float64(4), int64(2)\n",
            "memory usage: 1.2 MB\n"
          ],
          "name": "stdout"
        }
      ]
    },
    {
      "cell_type": "code",
      "metadata": {
        "id": "r2wJn0PWv9CE"
      },
      "source": [
        ""
      ],
      "execution_count": null,
      "outputs": []
    }
  ]
}